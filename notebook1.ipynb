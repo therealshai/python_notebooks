{
  "nbformat": 4,
  "nbformat_minor": 0,
  "metadata": {
    "colab": {
      "provenance": [],
      "authorship_tag": "ABX9TyNV2nYaRV5Wv4RLIDrk22Qy",
      "include_colab_link": true
    },
    "kernelspec": {
      "name": "python3",
      "display_name": "Python 3"
    },
    "language_info": {
      "name": "python"
    }
  },
  "cells": [
    {
      "cell_type": "markdown",
      "metadata": {
        "id": "view-in-github",
        "colab_type": "text"
      },
      "source": [
        "<a href=\"https://colab.research.google.com/github/therealshai/python_notebooks/blob/main/notebook1.ipynb\" target=\"_parent\"><img src=\"https://colab.research.google.com/assets/colab-badge.svg\" alt=\"Open In Colab\"/></a>"
      ]
    },
    {
      "cell_type": "markdown",
      "source": [
        "##Python Fundamentals"
      ],
      "metadata": {
        "id": "2DRnOASEWp0A"
      }
    },
    {
      "cell_type": "markdown",
      "source": [
        "### Quick refresher\n",
        "- Type Hierarchy\n",
        "\n",
        "    Numbers :\n",
        "     1. Integrals( Int , Bool)\n",
        "     2. Non- Intergral(Floats, Decimal, Complex)\n",
        "\n",
        "    Collections :\n",
        "     1. Sequences:\n",
        "        Lists(Mutable), Tuples, Strings(Immutable)\n",
        "     2. Sets : Sets, Frozen Sets\n",
        "     3. Mappings: Dictionaries\n",
        "     4. Callables : Functions, generators, classes, instance methods, class instances => __call__(), built in functions => len(), Built in methods (mylist.append(x))\n",
        "     5. Singletons:\n",
        "        *None*:- is am object that exisits, whenver you set a var to none, it always points back to the same memory address that we have\n",
        "        Hlipis : ...\n",
        "\n",
        "- Naming coventions\n",
        "- conditions\n",
        "- fucntions\n",
        "- strings\n",
        "    1. Physical lines of code -> logic lines (new line) of code -> tokenized\n",
        "    2. [] - list literals , list comprehensions\n",
        "    3. () - standard expressions, tuples\n",
        "    4. {} - dictionary/ set literals or comprehensions\n",
        "-loops and statements"
      ],
      "metadata": {
        "id": "Rpo4YbLlr1x9"
      }
    },
    {
      "cell_type": "code",
      "source": [
        "#Tyep Hierarchy\n",
        "a= [1,2,3]\n",
        "a"
      ],
      "metadata": {
        "colab": {
          "base_uri": "https://localhost:8080/"
        },
        "id": "RNqc9W0Br0ZT",
        "outputId": "17bafe0f-6487-4261-f35f-a44dda4d8270"
      },
      "execution_count": 192,
      "outputs": [
        {
          "output_type": "execute_result",
          "data": {
            "text/plain": [
              "[1, 2, 3]"
            ]
          },
          "metadata": {},
          "execution_count": 192
        }
      ]
    },
    {
      "cell_type": "code",
      "execution_count": 193,
      "metadata": {
        "id": "ASGGCwIqWJ6h",
        "colab": {
          "base_uri": "https://localhost:8080/"
        },
        "outputId": "7bb6e732-e33b-414f-95b9-e8a116dcd05f"
      },
      "outputs": [
        {
          "output_type": "execute_result",
          "data": {
            "text/plain": [
              "[1, 2, 2, 4]"
            ]
          },
          "metadata": {},
          "execution_count": 193
        }
      ],
      "source": [
        "a=[1,2,2,4]\n",
        "a"
      ]
    },
    {
      "cell_type": "code",
      "source": [
        "a=10\n",
        "b=20\n",
        "if a>0 \\\n",
        " and b>10 :\n",
        " print(\"yes\")  # use \\ for breaking it in multi line"
      ],
      "metadata": {
        "id": "_XEcXTDovZZP",
        "colab": {
          "base_uri": "https://localhost:8080/"
        },
        "outputId": "04f5bf17-153f-4566-f6cf-b342122e232c"
      },
      "execution_count": 194,
      "outputs": [
        {
          "output_type": "stream",
          "name": "stdout",
          "text": [
            "yes\n"
          ]
        }
      ]
    },
    {
      "cell_type": "code",
      "source": [
        "\"\"\"\n",
        "This is a string that can span multiple lines\n",
        "\"\"\""
      ],
      "metadata": {
        "colab": {
          "base_uri": "https://localhost:8080/",
          "height": 35
        },
        "id": "ZPL7fzNoMdIb",
        "outputId": "372b4636-321a-4b8f-e649-fe2321829325"
      },
      "execution_count": 195,
      "outputs": [
        {
          "output_type": "execute_result",
          "data": {
            "text/plain": [
              "'\\nThis is a string that can span multiple lines\\n'"
            ],
            "application/vnd.google.colaboratory.intrinsic+json": {
              "type": "string"
            }
          },
          "metadata": {},
          "execution_count": 195
        }
      ]
    },
    {
      "cell_type": "markdown",
      "source": [
        "### Naming convention\n",
        "\n",
        "_my_var : convention to indicate \"internal use\" or \"private\" objects\n",
        "\n",
        "__my_var : used to \"mangle\" class attributes- useful in inheritance chains\n",
        "__myvar__ : system-defined names that have a special meaning to the interpreter ex: __init__\n",
        "\n",
        "packages : all-lowercases with no underscores\n",
        "\n",
        "modules: all-lowercase, can have underscores\n",
        "\n",
        "classes: use camel case\n",
        "\n",
        "functions: snake_case\n",
        "\n",
        "variables : snake_case\n",
        "\n",
        "constants : all uppercase, underscores\n"
      ],
      "metadata": {
        "id": "7UKDhLdoODs1"
      }
    },
    {
      "cell_type": "code",
      "source": [
        "#Conditions - if else block , no switch case in python\n",
        "\n",
        "a=6\n",
        "if a<5:\n",
        "    print('a>5')\n",
        "else:\n",
        "    print('a>=5')\n"
      ],
      "metadata": {
        "colab": {
          "base_uri": "https://localhost:8080/"
        },
        "id": "F_3X9U6TNQds",
        "outputId": "c6ffc61b-0528-4603-8c19-3fee9a0f5c15"
      },
      "execution_count": 196,
      "outputs": [
        {
          "output_type": "stream",
          "name": "stdout",
          "text": [
            "a>=5\n"
          ]
        }
      ]
    },
    {
      "cell_type": "code",
      "source": [
        "if a<5:\n",
        "    print('a<5')\n",
        "\n",
        "elif a<10:\n",
        "    print('a<10 and is a>5')\n",
        "\n",
        "else:\n",
        "    print('a>=10')"
      ],
      "metadata": {
        "id": "S2zR-SOPPjvK",
        "colab": {
          "base_uri": "https://localhost:8080/"
        },
        "outputId": "8a894a5a-8757-4792-e901-d843986d768f"
      },
      "execution_count": 197,
      "outputs": [
        {
          "output_type": "stream",
          "name": "stdout",
          "text": [
            "a<10 and is a>5\n"
          ]
        }
      ]
    },
    {
      "cell_type": "code",
      "source": [
        "#condition expression - terrinary operator\n",
        "# X if (condition is true)else Y"
      ],
      "metadata": {
        "id": "18z1tprAQIwh"
      },
      "execution_count": 198,
      "outputs": []
    },
    {
      "cell_type": "code",
      "source": [
        "a=25\n",
        "a if a<30 else print('a>30')"
      ],
      "metadata": {
        "colab": {
          "base_uri": "https://localhost:8080/"
        },
        "id": "u4eOPMGrQQIv",
        "outputId": "a978441d-6438-41bf-e6d0-dbc602ce457b"
      },
      "execution_count": 199,
      "outputs": [
        {
          "output_type": "execute_result",
          "data": {
            "text/plain": [
              "25"
            ]
          },
          "metadata": {},
          "execution_count": 199
        }
      ]
    },
    {
      "cell_type": "markdown",
      "source": [
        "### Functions"
      ],
      "metadata": {
        "id": "T00e7ERAQ2fA"
      }
    },
    {
      "cell_type": "code",
      "source": [
        "def func_1(a):\n",
        "    print('this is func_1', a)"
      ],
      "metadata": {
        "id": "QQ1qwns5Q2NA"
      },
      "execution_count": 200,
      "outputs": []
    },
    {
      "cell_type": "code",
      "source": [
        "func_1(1)"
      ],
      "metadata": {
        "colab": {
          "base_uri": "https://localhost:8080/"
        },
        "id": "3391XEjcQamc",
        "outputId": "5dc4c9cb-6f38-475f-e7b3-d934ba946eb9"
      },
      "execution_count": 201,
      "outputs": [
        {
          "output_type": "stream",
          "name": "stdout",
          "text": [
            "this is func_1 1\n"
          ]
        }
      ]
    },
    {
      "cell_type": "code",
      "source": [
        "def fucn_2(a: int, b: int)-> int:\n",
        "    return a*b"
      ],
      "metadata": {
        "id": "Rm6Te-CxRSdt"
      },
      "execution_count": 202,
      "outputs": []
    },
    {
      "cell_type": "code",
      "source": [
        "fucn_2(3,2)"
      ],
      "metadata": {
        "colab": {
          "base_uri": "https://localhost:8080/"
        },
        "id": "p9lGfe7WRKSn",
        "outputId": "3d1227c5-5120-42e1-a1d4-3fa4fa81871b"
      },
      "execution_count": 203,
      "outputs": [
        {
          "output_type": "execute_result",
          "data": {
            "text/plain": [
              "6"
            ]
          },
          "metadata": {},
          "execution_count": 203
        }
      ]
    },
    {
      "cell_type": "markdown",
      "source": [
        "Lambda fucntions are anonymous fucntions which are of type object , which take input fucntion obj and return a fucntion obj"
      ],
      "metadata": {
        "id": "kA2LPW_kSrKV"
      }
    },
    {
      "cell_type": "code",
      "source": [
        "type(fucn_2) #fucntion is just an object"
      ],
      "metadata": {
        "colab": {
          "base_uri": "https://localhost:8080/"
        },
        "id": "MU9_n4fTRdpm",
        "outputId": "e608a224-a49e-4b09-9525-e878b5eb12e7"
      },
      "execution_count": 204,
      "outputs": [
        {
          "output_type": "execute_result",
          "data": {
            "text/plain": [
              "function"
            ]
          },
          "metadata": {},
          "execution_count": 204
        }
      ]
    },
    {
      "cell_type": "code",
      "source": [
        "func_3=lambda x:x**2"
      ],
      "metadata": {
        "id": "OSml_XSSS7hc"
      },
      "execution_count": 205,
      "outputs": []
    },
    {
      "cell_type": "code",
      "source": [
        "func_3(2)"
      ],
      "metadata": {
        "colab": {
          "base_uri": "https://localhost:8080/"
        },
        "id": "Iv3oBsckTJRb",
        "outputId": "05df8d63-bd42-4af9-c7fd-18fbce612150"
      },
      "execution_count": 206,
      "outputs": [
        {
          "output_type": "execute_result",
          "data": {
            "text/plain": [
              "4"
            ]
          },
          "metadata": {},
          "execution_count": 206
        }
      ]
    },
    {
      "cell_type": "markdown",
      "source": [
        "### Loops"
      ],
      "metadata": {
        "id": "AZI0Wpj3XlBL"
      }
    },
    {
      "cell_type": "code",
      "source": [
        "#while block\n",
        "i=10\n",
        "while i>5:\n",
        "    print(i)\n",
        "    i-=1"
      ],
      "metadata": {
        "colab": {
          "base_uri": "https://localhost:8080/"
        },
        "id": "9oFRJmQZTTWW",
        "outputId": "44be13a8-2dc8-4147-aa2e-d39bdeb43e76"
      },
      "execution_count": 207,
      "outputs": [
        {
          "output_type": "stream",
          "name": "stdout",
          "text": [
            "10\n",
            "9\n",
            "8\n",
            "7\n",
            "6\n"
          ]
        }
      ]
    },
    {
      "cell_type": "code",
      "source": [
        "l =[1,2,3,4]\n",
        "val = 5\n",
        "index=0\n",
        "while index<len(l):\n",
        "    if l[index]==val:\n",
        "        break #terminates the loop\n",
        "    index+=1\n",
        "else:  #else in loop context\n",
        "    l.append(val)"
      ],
      "metadata": {
        "id": "BkD2lfmxTika"
      },
      "execution_count": 208,
      "outputs": []
    },
    {
      "cell_type": "code",
      "source": [
        "print(l)"
      ],
      "metadata": {
        "colab": {
          "base_uri": "https://localhost:8080/"
        },
        "id": "h2885J0rkE8X",
        "outputId": "17d58438-ddd2-4c00-e6c9-fb11f41d40c5"
      },
      "execution_count": 209,
      "outputs": [
        {
          "output_type": "stream",
          "name": "stdout",
          "text": [
            "[1, 2, 3, 4, 5]\n"
          ]
        }
      ]
    },
    {
      "cell_type": "code",
      "source": [
        "# try...except....finally\n",
        "a=10\n",
        "b=0\n",
        "try:\n",
        "    a/b\n",
        "except ZeroDivisionError:\n",
        "    print('cannot divide by zero')\n",
        "finally:\n",
        "    print('this is always executes')"
      ],
      "metadata": {
        "colab": {
          "base_uri": "https://localhost:8080/"
        },
        "id": "xKPeDictkG9V",
        "outputId": "39a51c64-fb9e-4848-bc5f-0ad42e3b613d"
      },
      "execution_count": 210,
      "outputs": [
        {
          "output_type": "stream",
          "name": "stdout",
          "text": [
            "cannot divide by zero\n",
            "this is always executes\n"
          ]
        }
      ]
    },
    {
      "cell_type": "code",
      "source": [
        "a=0\n",
        "b=2\n",
        "while a<3:\n",
        "    print('---')\n",
        "    a+=1\n",
        "    b-=1\n",
        "    try:\n",
        "        a / b\n",
        "    except ZeroDivisionError:\n",
        "        print(f'a={a}, b={b}, cant divide by zero')\n",
        "        break\n",
        "    finally:\n",
        "        print(\"--next--\")\n",
        "\n",
        "print(f'a={a},b={b}')"
      ],
      "metadata": {
        "colab": {
          "base_uri": "https://localhost:8080/"
        },
        "id": "3P_bYrudkhr_",
        "outputId": "83f44baf-a51c-4e67-dda6-df9a997ee5c8"
      },
      "execution_count": 211,
      "outputs": [
        {
          "output_type": "stream",
          "name": "stdout",
          "text": [
            "---\n",
            "--next--\n",
            "---\n",
            "a=2, b=0, cant divide by zero\n",
            "--next--\n",
            "a=2,b=0\n"
          ]
        }
      ]
    },
    {
      "cell_type": "code",
      "source": [
        "# for loop - allows us to go over an iterable\n",
        "#iterable - it is a pbject capable of returning values one at a time\n",
        "for i in range(5):\n",
        "    print(i)"
      ],
      "metadata": {
        "colab": {
          "base_uri": "https://localhost:8080/"
        },
        "id": "r460A1W9lJiX",
        "outputId": "eff7e310-e734-4320-c13e-8a982b97c8b4"
      },
      "execution_count": 212,
      "outputs": [
        {
          "output_type": "stream",
          "name": "stdout",
          "text": [
            "0\n",
            "1\n",
            "2\n",
            "3\n",
            "4\n"
          ]
        }
      ]
    },
    {
      "cell_type": "code",
      "source": [
        "for i in [1,2,3,4]: #list\n",
        "    print(i)"
      ],
      "metadata": {
        "colab": {
          "base_uri": "https://localhost:8080/"
        },
        "id": "3hZeFXHEYH31",
        "outputId": "ec37fa71-47f9-41e0-eefd-cf4127106ca8"
      },
      "execution_count": 213,
      "outputs": [
        {
          "output_type": "stream",
          "name": "stdout",
          "text": [
            "1\n",
            "2\n",
            "3\n",
            "4\n"
          ]
        }
      ]
    },
    {
      "cell_type": "code",
      "source": [
        "for x,y in [(1,2),(3,4),(5,6)]:\n",
        "    print(x,y)"
      ],
      "metadata": {
        "colab": {
          "base_uri": "https://localhost:8080/"
        },
        "id": "-C7xi0P_YfRd",
        "outputId": "cf73acfc-e8c8-4b8c-e488-19330c916ff8"
      },
      "execution_count": 214,
      "outputs": [
        {
          "output_type": "stream",
          "name": "stdout",
          "text": [
            "1 2\n",
            "3 4\n",
            "5 6\n"
          ]
        }
      ]
    },
    {
      "cell_type": "code",
      "source": [
        "for i in range(1,10):\n",
        "    print(i)\n",
        "    if i % 5==0:\n",
        "        print('5 multiple found')\n",
        "        continue\n",
        "else:\n",
        "    print('no multiple of 5 found')"
      ],
      "metadata": {
        "colab": {
          "base_uri": "https://localhost:8080/"
        },
        "id": "ZuR0_zv4YuW_",
        "outputId": "89b2b4d0-0e27-43af-c511-07a1b23ca406"
      },
      "execution_count": 215,
      "outputs": [
        {
          "output_type": "stream",
          "name": "stdout",
          "text": [
            "1\n",
            "2\n",
            "3\n",
            "4\n",
            "5\n",
            "5 multiple found\n",
            "6\n",
            "7\n",
            "8\n",
            "9\n",
            "no multiple of 5 found\n"
          ]
        }
      ]
    },
    {
      "cell_type": "code",
      "source": [
        "for i in range(5):\n",
        "    try:\n",
        "        10/(i-3)\n",
        "    except ZeroDivisionError:\n",
        "        print('divied by 0')\n",
        "        continue\n",
        "    finally:\n",
        "        print(f'{i}--------')"
      ],
      "metadata": {
        "colab": {
          "base_uri": "https://localhost:8080/"
        },
        "id": "i8R_c4tUZKgf",
        "outputId": "8a19edf5-0436-4fef-dee7-e30bebea0d35"
      },
      "execution_count": 216,
      "outputs": [
        {
          "output_type": "stream",
          "name": "stdout",
          "text": [
            "0--------\n",
            "1--------\n",
            "2--------\n",
            "divied by 0\n",
            "3--------\n",
            "4--------\n"
          ]
        }
      ]
    },
    {
      "cell_type": "code",
      "source": [
        "# iterables with indexes\n",
        "s='shaii'\n",
        "for c in s:\n",
        "    print(c)\n",
        "print(\"with keys\")\n",
        "for i in range(len(s)):\n",
        "    print(s[i],i)"
      ],
      "metadata": {
        "colab": {
          "base_uri": "https://localhost:8080/"
        },
        "id": "xJ7wnclPZpYE",
        "outputId": "33e07a88-2899-476c-8b77-ccce5621c1f5"
      },
      "execution_count": 217,
      "outputs": [
        {
          "output_type": "stream",
          "name": "stdout",
          "text": [
            "s\n",
            "h\n",
            "a\n",
            "i\n",
            "i\n",
            "with keys\n",
            "s 0\n",
            "h 1\n",
            "a 2\n",
            "i 3\n",
            "i 4\n"
          ]
        }
      ]
    },
    {
      "cell_type": "markdown",
      "source": [
        "enumerate() is a built-in Python function that allows you to iterate through a sequence (like a list, tuple, or string) while also getting the index of each item. It returns an iterator that yields pairs of index and item. This is often more concise and Pythonic than manually managing a counter variable while iterating through a sequence."
      ],
      "metadata": {
        "id": "eGDs518BaubY"
      }
    },
    {
      "cell_type": "code",
      "source": [
        "for i,c in enumerate(s):\n",
        "    print(i,c)"
      ],
      "metadata": {
        "colab": {
          "base_uri": "https://localhost:8080/"
        },
        "id": "mCssVkOlZ7zm",
        "outputId": "276ae915-cc7c-43f1-a5cf-86e9489dbf46"
      },
      "execution_count": 218,
      "outputs": [
        {
          "output_type": "stream",
          "name": "stdout",
          "text": [
            "0 s\n",
            "1 h\n",
            "2 a\n",
            "3 i\n",
            "4 i\n"
          ]
        }
      ]
    },
    {
      "cell_type": "markdown",
      "source": [
        "### Classes in python"
      ],
      "metadata": {
        "id": "4Zb0KGPiaxXU"
      }
    },
    {
      "cell_type": "code",
      "source": [
        "class Rectangle:\n",
        "    def __init__(self,width,height):#first arg is the obj itself to initiate the obj\n",
        "        self._width=width\n",
        "        self._height=height\n",
        "\n",
        "    #methods\n",
        "    def area(self):\n",
        "        return self._width *self._height\n",
        "\n",
        "    def perimeter(self):\n",
        "        return 2*(self._width+self._height)\n",
        "\n",
        "    def __str__(self):\n",
        "        return f'Rectange:width= {self._width} , height={self._height}'\n",
        "\n",
        "    def __repr__(self) -> str:\n",
        "        return f'Rectangle({self._width},{self._height})'\n",
        "\n",
        "    def __eq__(self,other): #compare two objects\n",
        "        if isinstance(other,Rectangle):\n",
        "            return self._width==other._width and self._height==other._height\n",
        "        else:\n",
        "            return False\n",
        "\n",
        "    def __lt__(self,other): #less than operator\n",
        "        if isinstance(other,Rectangle):\n",
        "            return self.area()<other.area()\n",
        "        else:\n",
        "            return NotImplemented\n",
        "    ## getter and setter methods\n",
        "    # there is no private var , we use _var convection to indicate it is a private var\n",
        "\n",
        "    def get_width(self):\n",
        "        return self._width\n",
        "\n",
        "    def set_width(self,width):\n",
        "        if width<=0:\n",
        "            raise ValueError('width must be positive')\n",
        "        self._width=width\n",
        "\n",
        "    def get_height(self):\n",
        "        return self._height\n",
        "\n",
        "    def set_height(self,height):\n",
        "        if height<=0:\n",
        "            raise ValueError('height must be positive')\n",
        "        self._height=height\n",
        "\n",
        "    #properties\n",
        "    \"\"\"\n",
        "    Properties allow you to access and set attributes using the standard dot notation\n",
        "    (e.g., r1.width) instead of calling methods (e.g., r1.get_width(), r1.set_width(15))\n",
        "    \"\"\"\n",
        "    width=property(get_width,set_width)\n",
        "    height=property(get_height,set_height)\n",
        "\n"
      ],
      "metadata": {
        "id": "B7HZMwWTajP3"
      },
      "execution_count": 219,
      "outputs": []
    },
    {
      "cell_type": "code",
      "source": [
        "r1= Rectangle(10,20)"
      ],
      "metadata": {
        "id": "IyL7y3MwbROZ"
      },
      "execution_count": 220,
      "outputs": []
    },
    {
      "cell_type": "code",
      "source": [
        "str(r1) # because of magic method: __str__"
      ],
      "metadata": {
        "colab": {
          "base_uri": "https://localhost:8080/",
          "height": 35
        },
        "id": "70kZt6V8caYp",
        "outputId": "605f0d74-aa16-4df4-ed4f-b62808bb531e"
      },
      "execution_count": 221,
      "outputs": [
        {
          "output_type": "execute_result",
          "data": {
            "text/plain": [
              "'Rectange:width= 10 , height=20'"
            ],
            "application/vnd.google.colaboratory.intrinsic+json": {
              "type": "string"
            }
          },
          "metadata": {},
          "execution_count": 221
        }
      ]
    },
    {
      "cell_type": "code",
      "source": [
        "r1 # because of representation method : __repr__"
      ],
      "metadata": {
        "colab": {
          "base_uri": "https://localhost:8080/"
        },
        "id": "4pmJvNbGc_U2",
        "outputId": "237706dd-f78e-4542-9d50-751ae0ba564b"
      },
      "execution_count": 222,
      "outputs": [
        {
          "output_type": "execute_result",
          "data": {
            "text/plain": [
              "Rectangle(10,20)"
            ]
          },
          "metadata": {},
          "execution_count": 222
        }
      ]
    },
    {
      "cell_type": "code",
      "source": [
        "r2=Rectangle(20,20)\n",
        "r1==r2"
      ],
      "metadata": {
        "colab": {
          "base_uri": "https://localhost:8080/"
        },
        "id": "rD_2z7aZdeOx",
        "outputId": "bd461c6e-abe1-41ac-8576-2722c60fbb68"
      },
      "execution_count": 223,
      "outputs": [
        {
          "output_type": "execute_result",
          "data": {
            "text/plain": [
              "False"
            ]
          },
          "metadata": {},
          "execution_count": 223
        }
      ]
    },
    {
      "cell_type": "code",
      "source": [
        "r1==100"
      ],
      "metadata": {
        "colab": {
          "base_uri": "https://localhost:8080/"
        },
        "id": "9gPlZjQrd8op",
        "outputId": "44a41138-d0ae-4102-ffbd-e7d5113eb5a5"
      },
      "execution_count": 224,
      "outputs": [
        {
          "output_type": "execute_result",
          "data": {
            "text/plain": [
              "False"
            ]
          },
          "metadata": {},
          "execution_count": 224
        }
      ]
    },
    {
      "cell_type": "code",
      "source": [
        "r1 < r2"
      ],
      "metadata": {
        "colab": {
          "base_uri": "https://localhost:8080/"
        },
        "id": "JlOOcPYIeeHL",
        "outputId": "0e3bea5e-92e4-408e-e0ea-02b99c35c94c"
      },
      "execution_count": 225,
      "outputs": [
        {
          "output_type": "execute_result",
          "data": {
            "text/plain": [
              "True"
            ]
          },
          "metadata": {},
          "execution_count": 225
        }
      ]
    },
    {
      "cell_type": "code",
      "source": [
        "r1.width"
      ],
      "metadata": {
        "colab": {
          "base_uri": "https://localhost:8080/"
        },
        "id": "k_xgkvN5bUBA",
        "outputId": "dd082b25-2e98-4336-cb33-d35ff435e301"
      },
      "execution_count": 226,
      "outputs": [
        {
          "output_type": "execute_result",
          "data": {
            "text/plain": [
              "10"
            ]
          },
          "metadata": {},
          "execution_count": 226
        }
      ]
    },
    {
      "cell_type": "code",
      "source": [
        "r1.area()"
      ],
      "metadata": {
        "colab": {
          "base_uri": "https://localhost:8080/"
        },
        "id": "eagtf6MibVfa",
        "outputId": "00747e81-d300-4bba-9d29-b792d9bdd51c"
      },
      "execution_count": 227,
      "outputs": [
        {
          "output_type": "execute_result",
          "data": {
            "text/plain": [
              "200"
            ]
          },
          "metadata": {},
          "execution_count": 227
        }
      ]
    },
    {
      "cell_type": "code",
      "source": [
        "r1.perimeter()"
      ],
      "metadata": {
        "colab": {
          "base_uri": "https://localhost:8080/"
        },
        "id": "lxUWusW0blU9",
        "outputId": "d5ef1de9-14ba-4c6b-a47c-5d3774c5bd02"
      },
      "execution_count": 228,
      "outputs": [
        {
          "output_type": "execute_result",
          "data": {
            "text/plain": [
              "60"
            ]
          },
          "metadata": {},
          "execution_count": 228
        }
      ]
    },
    {
      "cell_type": "code",
      "source": [
        "str(r1)"
      ],
      "metadata": {
        "colab": {
          "base_uri": "https://localhost:8080/",
          "height": 35
        },
        "id": "-aA6U6ngbySN",
        "outputId": "e4594465-391c-45c6-9a52-4e4860d0f255"
      },
      "execution_count": 229,
      "outputs": [
        {
          "output_type": "execute_result",
          "data": {
            "text/plain": [
              "'Rectange:width= 10 , height=20'"
            ],
            "application/vnd.google.colaboratory.intrinsic+json": {
              "type": "string"
            }
          },
          "metadata": {},
          "execution_count": 229
        }
      ]
    },
    {
      "cell_type": "code",
      "source": [
        "id(r1), hex(id(r1))"
      ],
      "metadata": {
        "colab": {
          "base_uri": "https://localhost:8080/"
        },
        "id": "a_4Cg2cJcFNV",
        "outputId": "28ddb71b-4c5a-42b4-af3b-6845d9764302"
      },
      "execution_count": 230,
      "outputs": [
        {
          "output_type": "execute_result",
          "data": {
            "text/plain": [
              "(135878038588640, '0x7b9492390ce0')"
            ]
          },
          "metadata": {},
          "execution_count": 230
        }
      ]
    },
    {
      "cell_type": "code",
      "source": [
        "r1"
      ],
      "metadata": {
        "colab": {
          "base_uri": "https://localhost:8080/"
        },
        "id": "Hmr2huu2cHzV",
        "outputId": "9c819654-ab44-4986-b536-90a75efe0282"
      },
      "execution_count": 231,
      "outputs": [
        {
          "output_type": "execute_result",
          "data": {
            "text/plain": [
              "Rectangle(10,20)"
            ]
          },
          "metadata": {},
          "execution_count": 231
        }
      ]
    },
    {
      "cell_type": "code",
      "source": [],
      "metadata": {
        "id": "ABDB10MyeIvv"
      },
      "execution_count": 231,
      "outputs": []
    }
  ]
}